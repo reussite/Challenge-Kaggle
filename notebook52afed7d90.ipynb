{
 "cells": [
  {
   "cell_type": "code",
   "execution_count": 1,
   "id": "89ef7e5f",
   "metadata": {
    "_cell_guid": "b1076dfc-b9ad-4769-8c92-a6c4dae69d19",
    "_uuid": "8f2839f25d086af736a60e9eeb907d3b93b6e0e5",
    "execution": {
     "iopub.execute_input": "2024-08-24T21:20:16.282746Z",
     "iopub.status.busy": "2024-08-24T21:20:16.282248Z",
     "iopub.status.idle": "2024-08-24T21:20:16.731125Z",
     "shell.execute_reply": "2024-08-24T21:20:16.729795Z"
    },
    "papermill": {
     "duration": 0.464784,
     "end_time": "2024-08-24T21:20:16.733689",
     "exception": false,
     "start_time": "2024-08-24T21:20:16.268905",
     "status": "completed"
    },
    "tags": []
   },
   "outputs": [
    {
     "name": "stdout",
     "output_type": "stream",
     "text": [
      "/kaggle/input/titanic/train.csv\n",
      "/kaggle/input/titanic/test.csv\n",
      "/kaggle/input/titanic/gender_submission.csv\n"
     ]
    }
   ],
   "source": [
    "# This Python 3 environment comes with many helpful analytics libraries installed\n",
    "# It is defined by the kaggle/python Docker image: https://github.com/kaggle/docker-python\n",
    "# For example, here's several helpful packages to load\n",
    "\n",
    "import numpy as np # linear algebra\n",
    "import pandas as pd # data processing, CSV file I/O (e.g. pd.read_csv)\n",
    "\n",
    "# Input data files are available in the read-only \"../input/\" directory\n",
    "# For example, running this (by clicking run or pressing Shift+Enter) will list all files under the input directory\n",
    "\n",
    "import os\n",
    "for dirname, _, filenames in os.walk('/kaggle/input'):\n",
    "    for filename in filenames:\n",
    "        print(os.path.join(dirname, filename))\n",
    "\n",
    "# You can write up to 20GB to the current directory (/kaggle/working/) that gets preserved as output when you create a version using \"Save & Run All\" \n",
    "# You can also write temporary files to /kaggle/temp/, but they won't be saved outside of the current session"
   ]
  },
  {
   "cell_type": "markdown",
   "id": "5ae72a0d",
   "metadata": {
    "papermill": {
     "duration": 0.010552,
     "end_time": "2024-08-24T21:20:16.755403",
     "exception": false,
     "start_time": "2024-08-24T21:20:16.744851",
     "status": "completed"
    },
    "tags": []
   },
   "source": []
  },
  {
   "cell_type": "markdown",
   "id": "1b55e012",
   "metadata": {
    "papermill": {
     "duration": 0.010439,
     "end_time": "2024-08-24T21:20:16.776793",
     "exception": false,
     "start_time": "2024-08-24T21:20:16.766354",
     "status": "completed"
    },
    "tags": []
   },
   "source": [
    "## 1. Importation des bibliothèques\n",
    "\n",
    "- **`numpy`** est utilisé pour les opérations numériques.\n",
    "- **`pandas`** est utilisé pour la manipulation des données.\n",
    "- **`RandomForestClassifier`** et **`LogisticRegression`** sont des algorithmes de machine learning importés depuis `sklearn` pour entraîner des modèles.\n",
    "- **`train_test_split`** est une fonction pour diviser les données en ensembles d'entraînement et de test.\n"
   ]
  },
  {
   "cell_type": "code",
   "execution_count": 2,
   "id": "3554d4a4",
   "metadata": {
    "execution": {
     "iopub.execute_input": "2024-08-24T21:20:16.800867Z",
     "iopub.status.busy": "2024-08-24T21:20:16.799627Z",
     "iopub.status.idle": "2024-08-24T21:20:18.580404Z",
     "shell.execute_reply": "2024-08-24T21:20:18.579252Z"
    },
    "papermill": {
     "duration": 1.795874,
     "end_time": "2024-08-24T21:20:18.583391",
     "exception": false,
     "start_time": "2024-08-24T21:20:16.787517",
     "status": "completed"
    },
    "tags": []
   },
   "outputs": [],
   "source": [
    "import numpy as np\n",
    "import pandas as pd\n",
    "\n",
    "#The Machine learning alogorithm\n",
    "from sklearn.ensemble import RandomForestClassifier\n",
    "from sklearn.linear_model import LogisticRegression\n",
    "\n",
    "# Test train split\n",
    "from sklearn.model_selection import train_test_split"
   ]
  },
  {
   "cell_type": "markdown",
   "id": "71e9f62c",
   "metadata": {
    "papermill": {
     "duration": 0.010747,
     "end_time": "2024-08-24T21:20:18.605419",
     "exception": false,
     "start_time": "2024-08-24T21:20:18.594672",
     "status": "completed"
    },
    "tags": []
   },
   "source": []
  },
  {
   "cell_type": "markdown",
   "id": "82de1678",
   "metadata": {
    "papermill": {
     "duration": 0.010664,
     "end_time": "2024-08-24T21:20:18.627081",
     "exception": false,
     "start_time": "2024-08-24T21:20:18.616417",
     "status": "completed"
    },
    "tags": []
   },
   "source": [
    "## 2. Changement de répertoire de travail\n",
    "\n",
    "- **`os`** est utilisé pour interagir avec le système d'exploitation.\n",
    "- **`os.chdir`** change le répertoire de travail courant vers le répertoire spécifié, ici pour Kaggle.\n"
   ]
  },
  {
   "cell_type": "code",
   "execution_count": 3,
   "id": "699ad0cd",
   "metadata": {
    "execution": {
     "iopub.execute_input": "2024-08-24T21:20:18.651803Z",
     "iopub.status.busy": "2024-08-24T21:20:18.650307Z",
     "iopub.status.idle": "2024-08-24T21:20:18.656225Z",
     "shell.execute_reply": "2024-08-24T21:20:18.655078Z"
    },
    "papermill": {
     "duration": 0.020603,
     "end_time": "2024-08-24T21:20:18.658626",
     "exception": false,
     "start_time": "2024-08-24T21:20:18.638023",
     "status": "completed"
    },
    "tags": []
   },
   "outputs": [],
   "source": [
    "import os\n",
    "os.chdir(\"/kaggle/working/\") "
   ]
  },
  {
   "cell_type": "markdown",
   "id": "9df787a7",
   "metadata": {
    "papermill": {
     "duration": 0.010783,
     "end_time": "2024-08-24T21:20:18.680740",
     "exception": false,
     "start_time": "2024-08-24T21:20:18.669957",
     "status": "completed"
    },
    "tags": []
   },
   "source": [
    "## 3. Chargement et exploration des données\n",
    "\n",
    "- **`pd.read_csv`** lit le fichier CSV des données d'entraînement et le charge dans un DataFrame.\n",
    "- **`train.train.head()`** affiche les premières lignes du DataFrame pour une vue d'ensemble rapide des données."
   ]
  },
  {
   "cell_type": "code",
   "execution_count": 4,
   "id": "d7862c81",
   "metadata": {
    "execution": {
     "iopub.execute_input": "2024-08-24T21:20:18.705127Z",
     "iopub.status.busy": "2024-08-24T21:20:18.704710Z",
     "iopub.status.idle": "2024-08-24T21:20:18.754577Z",
     "shell.execute_reply": "2024-08-24T21:20:18.753355Z"
    },
    "papermill": {
     "duration": 0.064997,
     "end_time": "2024-08-24T21:20:18.757159",
     "exception": false,
     "start_time": "2024-08-24T21:20:18.692162",
     "status": "completed"
    },
    "tags": []
   },
   "outputs": [
    {
     "data": {
      "text/html": [
       "<div>\n",
       "<style scoped>\n",
       "    .dataframe tbody tr th:only-of-type {\n",
       "        vertical-align: middle;\n",
       "    }\n",
       "\n",
       "    .dataframe tbody tr th {\n",
       "        vertical-align: top;\n",
       "    }\n",
       "\n",
       "    .dataframe thead th {\n",
       "        text-align: right;\n",
       "    }\n",
       "</style>\n",
       "<table border=\"1\" class=\"dataframe\">\n",
       "  <thead>\n",
       "    <tr style=\"text-align: right;\">\n",
       "      <th></th>\n",
       "      <th>PassengerId</th>\n",
       "      <th>Survived</th>\n",
       "      <th>Pclass</th>\n",
       "      <th>Name</th>\n",
       "      <th>Sex</th>\n",
       "      <th>Age</th>\n",
       "      <th>SibSp</th>\n",
       "      <th>Parch</th>\n",
       "      <th>Ticket</th>\n",
       "      <th>Fare</th>\n",
       "      <th>Cabin</th>\n",
       "      <th>Embarked</th>\n",
       "    </tr>\n",
       "  </thead>\n",
       "  <tbody>\n",
       "    <tr>\n",
       "      <th>0</th>\n",
       "      <td>1</td>\n",
       "      <td>0</td>\n",
       "      <td>3</td>\n",
       "      <td>Braund, Mr. Owen Harris</td>\n",
       "      <td>male</td>\n",
       "      <td>22.0</td>\n",
       "      <td>1</td>\n",
       "      <td>0</td>\n",
       "      <td>A/5 21171</td>\n",
       "      <td>7.2500</td>\n",
       "      <td>NaN</td>\n",
       "      <td>S</td>\n",
       "    </tr>\n",
       "    <tr>\n",
       "      <th>1</th>\n",
       "      <td>2</td>\n",
       "      <td>1</td>\n",
       "      <td>1</td>\n",
       "      <td>Cumings, Mrs. John Bradley (Florence Briggs Th...</td>\n",
       "      <td>female</td>\n",
       "      <td>38.0</td>\n",
       "      <td>1</td>\n",
       "      <td>0</td>\n",
       "      <td>PC 17599</td>\n",
       "      <td>71.2833</td>\n",
       "      <td>C85</td>\n",
       "      <td>C</td>\n",
       "    </tr>\n",
       "    <tr>\n",
       "      <th>2</th>\n",
       "      <td>3</td>\n",
       "      <td>1</td>\n",
       "      <td>3</td>\n",
       "      <td>Heikkinen, Miss. Laina</td>\n",
       "      <td>female</td>\n",
       "      <td>26.0</td>\n",
       "      <td>0</td>\n",
       "      <td>0</td>\n",
       "      <td>STON/O2. 3101282</td>\n",
       "      <td>7.9250</td>\n",
       "      <td>NaN</td>\n",
       "      <td>S</td>\n",
       "    </tr>\n",
       "    <tr>\n",
       "      <th>3</th>\n",
       "      <td>4</td>\n",
       "      <td>1</td>\n",
       "      <td>1</td>\n",
       "      <td>Futrelle, Mrs. Jacques Heath (Lily May Peel)</td>\n",
       "      <td>female</td>\n",
       "      <td>35.0</td>\n",
       "      <td>1</td>\n",
       "      <td>0</td>\n",
       "      <td>113803</td>\n",
       "      <td>53.1000</td>\n",
       "      <td>C123</td>\n",
       "      <td>S</td>\n",
       "    </tr>\n",
       "    <tr>\n",
       "      <th>4</th>\n",
       "      <td>5</td>\n",
       "      <td>0</td>\n",
       "      <td>3</td>\n",
       "      <td>Allen, Mr. William Henry</td>\n",
       "      <td>male</td>\n",
       "      <td>35.0</td>\n",
       "      <td>0</td>\n",
       "      <td>0</td>\n",
       "      <td>373450</td>\n",
       "      <td>8.0500</td>\n",
       "      <td>NaN</td>\n",
       "      <td>S</td>\n",
       "    </tr>\n",
       "  </tbody>\n",
       "</table>\n",
       "</div>"
      ],
      "text/plain": [
       "   PassengerId  Survived  Pclass  \\\n",
       "0            1         0       3   \n",
       "1            2         1       1   \n",
       "2            3         1       3   \n",
       "3            4         1       1   \n",
       "4            5         0       3   \n",
       "\n",
       "                                                Name     Sex   Age  SibSp  \\\n",
       "0                            Braund, Mr. Owen Harris    male  22.0      1   \n",
       "1  Cumings, Mrs. John Bradley (Florence Briggs Th...  female  38.0      1   \n",
       "2                             Heikkinen, Miss. Laina  female  26.0      0   \n",
       "3       Futrelle, Mrs. Jacques Heath (Lily May Peel)  female  35.0      1   \n",
       "4                           Allen, Mr. William Henry    male  35.0      0   \n",
       "\n",
       "   Parch            Ticket     Fare Cabin Embarked  \n",
       "0      0         A/5 21171   7.2500   NaN        S  \n",
       "1      0          PC 17599  71.2833   C85        C  \n",
       "2      0  STON/O2. 3101282   7.9250   NaN        S  \n",
       "3      0            113803  53.1000  C123        S  \n",
       "4      0            373450   8.0500   NaN        S  "
      ]
     },
     "execution_count": 4,
     "metadata": {},
     "output_type": "execute_result"
    }
   ],
   "source": [
    "train = pd.read_csv(\"/kaggle/input/titanic/train.csv\")\n",
    "train.head()"
   ]
  },
  {
   "cell_type": "code",
   "execution_count": 5,
   "id": "5e145621",
   "metadata": {
    "execution": {
     "iopub.execute_input": "2024-08-24T21:20:18.782200Z",
     "iopub.status.busy": "2024-08-24T21:20:18.781755Z",
     "iopub.status.idle": "2024-08-24T21:20:18.817910Z",
     "shell.execute_reply": "2024-08-24T21:20:18.816699Z"
    },
    "papermill": {
     "duration": 0.051865,
     "end_time": "2024-08-24T21:20:18.820459",
     "exception": false,
     "start_time": "2024-08-24T21:20:18.768594",
     "status": "completed"
    },
    "tags": []
   },
   "outputs": [
    {
     "data": {
      "text/html": [
       "<div>\n",
       "<style scoped>\n",
       "    .dataframe tbody tr th:only-of-type {\n",
       "        vertical-align: middle;\n",
       "    }\n",
       "\n",
       "    .dataframe tbody tr th {\n",
       "        vertical-align: top;\n",
       "    }\n",
       "\n",
       "    .dataframe thead th {\n",
       "        text-align: right;\n",
       "    }\n",
       "</style>\n",
       "<table border=\"1\" class=\"dataframe\">\n",
       "  <thead>\n",
       "    <tr style=\"text-align: right;\">\n",
       "      <th></th>\n",
       "      <th>PassengerId</th>\n",
       "      <th>Survived</th>\n",
       "      <th>Pclass</th>\n",
       "      <th>Age</th>\n",
       "      <th>SibSp</th>\n",
       "      <th>Parch</th>\n",
       "      <th>Fare</th>\n",
       "    </tr>\n",
       "  </thead>\n",
       "  <tbody>\n",
       "    <tr>\n",
       "      <th>count</th>\n",
       "      <td>891.000000</td>\n",
       "      <td>891.000000</td>\n",
       "      <td>891.000000</td>\n",
       "      <td>714.000000</td>\n",
       "      <td>891.000000</td>\n",
       "      <td>891.000000</td>\n",
       "      <td>891.000000</td>\n",
       "    </tr>\n",
       "    <tr>\n",
       "      <th>mean</th>\n",
       "      <td>446.000000</td>\n",
       "      <td>0.383838</td>\n",
       "      <td>2.308642</td>\n",
       "      <td>29.699118</td>\n",
       "      <td>0.523008</td>\n",
       "      <td>0.381594</td>\n",
       "      <td>32.204208</td>\n",
       "    </tr>\n",
       "    <tr>\n",
       "      <th>std</th>\n",
       "      <td>257.353842</td>\n",
       "      <td>0.486592</td>\n",
       "      <td>0.836071</td>\n",
       "      <td>14.526497</td>\n",
       "      <td>1.102743</td>\n",
       "      <td>0.806057</td>\n",
       "      <td>49.693429</td>\n",
       "    </tr>\n",
       "    <tr>\n",
       "      <th>min</th>\n",
       "      <td>1.000000</td>\n",
       "      <td>0.000000</td>\n",
       "      <td>1.000000</td>\n",
       "      <td>0.420000</td>\n",
       "      <td>0.000000</td>\n",
       "      <td>0.000000</td>\n",
       "      <td>0.000000</td>\n",
       "    </tr>\n",
       "    <tr>\n",
       "      <th>25%</th>\n",
       "      <td>223.500000</td>\n",
       "      <td>0.000000</td>\n",
       "      <td>2.000000</td>\n",
       "      <td>20.125000</td>\n",
       "      <td>0.000000</td>\n",
       "      <td>0.000000</td>\n",
       "      <td>7.910400</td>\n",
       "    </tr>\n",
       "    <tr>\n",
       "      <th>50%</th>\n",
       "      <td>446.000000</td>\n",
       "      <td>0.000000</td>\n",
       "      <td>3.000000</td>\n",
       "      <td>28.000000</td>\n",
       "      <td>0.000000</td>\n",
       "      <td>0.000000</td>\n",
       "      <td>14.454200</td>\n",
       "    </tr>\n",
       "    <tr>\n",
       "      <th>75%</th>\n",
       "      <td>668.500000</td>\n",
       "      <td>1.000000</td>\n",
       "      <td>3.000000</td>\n",
       "      <td>38.000000</td>\n",
       "      <td>1.000000</td>\n",
       "      <td>0.000000</td>\n",
       "      <td>31.000000</td>\n",
       "    </tr>\n",
       "    <tr>\n",
       "      <th>max</th>\n",
       "      <td>891.000000</td>\n",
       "      <td>1.000000</td>\n",
       "      <td>3.000000</td>\n",
       "      <td>80.000000</td>\n",
       "      <td>8.000000</td>\n",
       "      <td>6.000000</td>\n",
       "      <td>512.329200</td>\n",
       "    </tr>\n",
       "  </tbody>\n",
       "</table>\n",
       "</div>"
      ],
      "text/plain": [
       "       PassengerId    Survived      Pclass         Age       SibSp  \\\n",
       "count   891.000000  891.000000  891.000000  714.000000  891.000000   \n",
       "mean    446.000000    0.383838    2.308642   29.699118    0.523008   \n",
       "std     257.353842    0.486592    0.836071   14.526497    1.102743   \n",
       "min       1.000000    0.000000    1.000000    0.420000    0.000000   \n",
       "25%     223.500000    0.000000    2.000000   20.125000    0.000000   \n",
       "50%     446.000000    0.000000    3.000000   28.000000    0.000000   \n",
       "75%     668.500000    1.000000    3.000000   38.000000    1.000000   \n",
       "max     891.000000    1.000000    3.000000   80.000000    8.000000   \n",
       "\n",
       "            Parch        Fare  \n",
       "count  891.000000  891.000000  \n",
       "mean     0.381594   32.204208  \n",
       "std      0.806057   49.693429  \n",
       "min      0.000000    0.000000  \n",
       "25%      0.000000    7.910400  \n",
       "50%      0.000000   14.454200  \n",
       "75%      0.000000   31.000000  \n",
       "max      6.000000  512.329200  "
      ]
     },
     "execution_count": 5,
     "metadata": {},
     "output_type": "execute_result"
    }
   ],
   "source": [
    "train.describe()"
   ]
  },
  {
   "cell_type": "code",
   "execution_count": 6,
   "id": "b9032ef1",
   "metadata": {
    "execution": {
     "iopub.execute_input": "2024-08-24T21:20:18.845915Z",
     "iopub.status.busy": "2024-08-24T21:20:18.845476Z",
     "iopub.status.idle": "2024-08-24T21:20:18.855337Z",
     "shell.execute_reply": "2024-08-24T21:20:18.854246Z"
    },
    "papermill": {
     "duration": 0.025216,
     "end_time": "2024-08-24T21:20:18.857771",
     "exception": false,
     "start_time": "2024-08-24T21:20:18.832555",
     "status": "completed"
    },
    "tags": []
   },
   "outputs": [
    {
     "data": {
      "text/plain": [
       "PassengerId      0\n",
       "Survived         0\n",
       "Pclass           0\n",
       "Name             0\n",
       "Sex              0\n",
       "Age            177\n",
       "SibSp            0\n",
       "Parch            0\n",
       "Ticket           0\n",
       "Fare             0\n",
       "Cabin          687\n",
       "Embarked         2\n",
       "dtype: int64"
      ]
     },
     "execution_count": 6,
     "metadata": {},
     "output_type": "execute_result"
    }
   ],
   "source": [
    "train.isnull().sum()"
   ]
  },
  {
   "cell_type": "markdown",
   "id": "57d8f33b",
   "metadata": {
    "papermill": {
     "duration": 0.011746,
     "end_time": "2024-08-24T21:20:18.881101",
     "exception": false,
     "start_time": "2024-08-24T21:20:18.869355",
     "status": "completed"
    },
    "tags": []
   },
   "source": [
    "## 4. Préparation des données\n",
    "\n",
    "- Sélectionnez les colonnes **\"Pclass\"** et **\"Sex\"** pour créer un DataFrame **`train_x`** qui sera utilisé comme ensemble de caractéristiques pour entraîner les modèles.\n",
    "- **`train_x.head()`** affiche les premières lignes de ces données.\n"
   ]
  },
  {
   "cell_type": "code",
   "execution_count": 7,
   "id": "25efe396",
   "metadata": {
    "execution": {
     "iopub.execute_input": "2024-08-24T21:20:18.907178Z",
     "iopub.status.busy": "2024-08-24T21:20:18.906172Z",
     "iopub.status.idle": "2024-08-24T21:20:18.923017Z",
     "shell.execute_reply": "2024-08-24T21:20:18.921710Z"
    },
    "papermill": {
     "duration": 0.032638,
     "end_time": "2024-08-24T21:20:18.925552",
     "exception": false,
     "start_time": "2024-08-24T21:20:18.892914",
     "status": "completed"
    },
    "tags": []
   },
   "outputs": [
    {
     "data": {
      "text/html": [
       "<div>\n",
       "<style scoped>\n",
       "    .dataframe tbody tr th:only-of-type {\n",
       "        vertical-align: middle;\n",
       "    }\n",
       "\n",
       "    .dataframe tbody tr th {\n",
       "        vertical-align: top;\n",
       "    }\n",
       "\n",
       "    .dataframe thead th {\n",
       "        text-align: right;\n",
       "    }\n",
       "</style>\n",
       "<table border=\"1\" class=\"dataframe\">\n",
       "  <thead>\n",
       "    <tr style=\"text-align: right;\">\n",
       "      <th></th>\n",
       "      <th>Pclass</th>\n",
       "      <th>Sex</th>\n",
       "    </tr>\n",
       "  </thead>\n",
       "  <tbody>\n",
       "    <tr>\n",
       "      <th>0</th>\n",
       "      <td>3</td>\n",
       "      <td>male</td>\n",
       "    </tr>\n",
       "    <tr>\n",
       "      <th>1</th>\n",
       "      <td>1</td>\n",
       "      <td>female</td>\n",
       "    </tr>\n",
       "    <tr>\n",
       "      <th>2</th>\n",
       "      <td>3</td>\n",
       "      <td>female</td>\n",
       "    </tr>\n",
       "    <tr>\n",
       "      <th>3</th>\n",
       "      <td>1</td>\n",
       "      <td>female</td>\n",
       "    </tr>\n",
       "    <tr>\n",
       "      <th>4</th>\n",
       "      <td>3</td>\n",
       "      <td>male</td>\n",
       "    </tr>\n",
       "  </tbody>\n",
       "</table>\n",
       "</div>"
      ],
      "text/plain": [
       "   Pclass     Sex\n",
       "0       3    male\n",
       "1       1  female\n",
       "2       3  female\n",
       "3       1  female\n",
       "4       3    male"
      ]
     },
     "execution_count": 7,
     "metadata": {},
     "output_type": "execute_result"
    }
   ],
   "source": [
    "train_entrainement = train[[\"Pclass\", \"Sex\"]]\n",
    "train_entrainement.head()"
   ]
  },
  {
   "cell_type": "markdown",
   "id": "6b1b45b9",
   "metadata": {
    "papermill": {
     "duration": 0.011758,
     "end_time": "2024-08-24T21:20:18.949889",
     "exception": false,
     "start_time": "2024-08-24T21:20:18.938131",
     "status": "completed"
    },
    "tags": []
   },
   "source": [
    "- Sélectionnez la colonne **\"Survived\"** pour créer un DataFrame **`train_cible`** qui sera utilisé comme cible pour entraîner les modèles.\n",
    "- **`train_cible.head()`** affiche les premières lignes de cette cible."
   ]
  },
  {
   "cell_type": "code",
   "execution_count": 8,
   "id": "4fe8f71c",
   "metadata": {
    "execution": {
     "iopub.execute_input": "2024-08-24T21:20:18.975451Z",
     "iopub.status.busy": "2024-08-24T21:20:18.974997Z",
     "iopub.status.idle": "2024-08-24T21:20:18.985815Z",
     "shell.execute_reply": "2024-08-24T21:20:18.984463Z"
    },
    "papermill": {
     "duration": 0.026754,
     "end_time": "2024-08-24T21:20:18.988406",
     "exception": false,
     "start_time": "2024-08-24T21:20:18.961652",
     "status": "completed"
    },
    "tags": []
   },
   "outputs": [
    {
     "data": {
      "text/html": [
       "<div>\n",
       "<style scoped>\n",
       "    .dataframe tbody tr th:only-of-type {\n",
       "        vertical-align: middle;\n",
       "    }\n",
       "\n",
       "    .dataframe tbody tr th {\n",
       "        vertical-align: top;\n",
       "    }\n",
       "\n",
       "    .dataframe thead th {\n",
       "        text-align: right;\n",
       "    }\n",
       "</style>\n",
       "<table border=\"1\" class=\"dataframe\">\n",
       "  <thead>\n",
       "    <tr style=\"text-align: right;\">\n",
       "      <th></th>\n",
       "      <th>Survived</th>\n",
       "    </tr>\n",
       "  </thead>\n",
       "  <tbody>\n",
       "    <tr>\n",
       "      <th>0</th>\n",
       "      <td>0</td>\n",
       "    </tr>\n",
       "    <tr>\n",
       "      <th>1</th>\n",
       "      <td>1</td>\n",
       "    </tr>\n",
       "    <tr>\n",
       "      <th>2</th>\n",
       "      <td>1</td>\n",
       "    </tr>\n",
       "    <tr>\n",
       "      <th>3</th>\n",
       "      <td>1</td>\n",
       "    </tr>\n",
       "    <tr>\n",
       "      <th>4</th>\n",
       "      <td>0</td>\n",
       "    </tr>\n",
       "  </tbody>\n",
       "</table>\n",
       "</div>"
      ],
      "text/plain": [
       "   Survived\n",
       "0         0\n",
       "1         1\n",
       "2         1\n",
       "3         1\n",
       "4         0"
      ]
     },
     "execution_count": 8,
     "metadata": {},
     "output_type": "execute_result"
    }
   ],
   "source": [
    "train_cible = train[[\"Survived\"]]\n",
    "train_cible.head()"
   ]
  },
  {
   "cell_type": "markdown",
   "id": "e41ffe34",
   "metadata": {
    "papermill": {
     "duration": 0.013437,
     "end_time": "2024-08-24T21:20:19.014223",
     "exception": false,
     "start_time": "2024-08-24T21:20:19.000786",
     "status": "completed"
    },
    "tags": []
   },
   "source": [
    "## 5. Division des données en ensembles d'entraînement et de validation\n",
    "\n",
    "- Divisez les données en ensembles d'entraînement (**tr_x**, **tr_y**) et de validation (**cv_x**, **cv_y**).\n",
    "- L'argument **`test_size=0.30`** indique que 30% des données seront utilisées pour la validation.\n",
    "- Remplacez les valeurs de la colonne **\"Sex\"** par des valeurs numériques (1 pour \"male\" et 0 pour \"female\") en utilisant la méthode **`replace`**.\n",
    "- Cette transformation rend la colonne compatible avec les algorithmes de machine learning."
   ]
  },
  {
   "cell_type": "code",
   "execution_count": 9,
   "id": "f5b467a3",
   "metadata": {
    "execution": {
     "iopub.execute_input": "2024-08-24T21:20:19.041006Z",
     "iopub.status.busy": "2024-08-24T21:20:19.040550Z",
     "iopub.status.idle": "2024-08-24T21:20:19.055982Z",
     "shell.execute_reply": "2024-08-24T21:20:19.054708Z"
    },
    "papermill": {
     "duration": 0.032477,
     "end_time": "2024-08-24T21:20:19.059282",
     "exception": false,
     "start_time": "2024-08-24T21:20:19.026805",
     "status": "completed"
    },
    "tags": []
   },
   "outputs": [
    {
     "name": "stderr",
     "output_type": "stream",
     "text": [
      "/tmp/ipykernel_17/1058115740.py:1: FutureWarning: Downcasting behavior in `replace` is deprecated and will be removed in a future version. To retain the old behavior, explicitly call `result.infer_objects(copy=False)`. To opt-in to the future behavior, set `pd.set_option('future.no_silent_downcasting', True)`\n",
      "  train_entrainement.loc[:, \"Sex\"] = train_entrainement[\"Sex\"].replace({\"male\": 1, \"female\": 0})\n"
     ]
    },
    {
     "data": {
      "text/html": [
       "<div>\n",
       "<style scoped>\n",
       "    .dataframe tbody tr th:only-of-type {\n",
       "        vertical-align: middle;\n",
       "    }\n",
       "\n",
       "    .dataframe tbody tr th {\n",
       "        vertical-align: top;\n",
       "    }\n",
       "\n",
       "    .dataframe thead th {\n",
       "        text-align: right;\n",
       "    }\n",
       "</style>\n",
       "<table border=\"1\" class=\"dataframe\">\n",
       "  <thead>\n",
       "    <tr style=\"text-align: right;\">\n",
       "      <th></th>\n",
       "      <th>Pclass</th>\n",
       "      <th>Sex</th>\n",
       "    </tr>\n",
       "  </thead>\n",
       "  <tbody>\n",
       "    <tr>\n",
       "      <th>0</th>\n",
       "      <td>3</td>\n",
       "      <td>1</td>\n",
       "    </tr>\n",
       "    <tr>\n",
       "      <th>1</th>\n",
       "      <td>1</td>\n",
       "      <td>0</td>\n",
       "    </tr>\n",
       "    <tr>\n",
       "      <th>2</th>\n",
       "      <td>3</td>\n",
       "      <td>0</td>\n",
       "    </tr>\n",
       "    <tr>\n",
       "      <th>3</th>\n",
       "      <td>1</td>\n",
       "      <td>0</td>\n",
       "    </tr>\n",
       "    <tr>\n",
       "      <th>4</th>\n",
       "      <td>3</td>\n",
       "      <td>1</td>\n",
       "    </tr>\n",
       "  </tbody>\n",
       "</table>\n",
       "</div>"
      ],
      "text/plain": [
       "   Pclass Sex\n",
       "0       3   1\n",
       "1       1   0\n",
       "2       3   0\n",
       "3       1   0\n",
       "4       3   1"
      ]
     },
     "execution_count": 9,
     "metadata": {},
     "output_type": "execute_result"
    }
   ],
   "source": [
    "train_entrainement.loc[:, \"Sex\"] = train_entrainement[\"Sex\"].replace({\"male\": 1, \"female\": 0})\n",
    "train_entrainement.head()"
   ]
  },
  {
   "cell_type": "markdown",
   "id": "68e9c5dd",
   "metadata": {
    "papermill": {
     "duration": 0.012894,
     "end_time": "2024-08-24T21:20:19.084847",
     "exception": false,
     "start_time": "2024-08-24T21:20:19.071953",
     "status": "completed"
    },
    "tags": []
   },
   "source": [
    "## 5. Division des données en ensembles d'entraînement et de validation\n",
    "\n",
    "- Divisez les données en ensembles d'entraînement (**tr_entrainement**, **tr_cible**) et de validation (**cv_entrainement**, **cv_cible**).\n",
    "- L'argument **`test_size=0.30`** indique que 30% des données seront utilisées pour la validation.\n"
   ]
  },
  {
   "cell_type": "code",
   "execution_count": 10,
   "id": "11b65ab3",
   "metadata": {
    "execution": {
     "iopub.execute_input": "2024-08-24T21:20:19.111848Z",
     "iopub.status.busy": "2024-08-24T21:20:19.111392Z",
     "iopub.status.idle": "2024-08-24T21:20:19.124896Z",
     "shell.execute_reply": "2024-08-24T21:20:19.123639Z"
    },
    "papermill": {
     "duration": 0.029649,
     "end_time": "2024-08-24T21:20:19.127167",
     "exception": false,
     "start_time": "2024-08-24T21:20:19.097518",
     "status": "completed"
    },
    "tags": []
   },
   "outputs": [
    {
     "name": "stdout",
     "output_type": "stream",
     "text": [
      "     Pclass Sex\n",
      "620       3   1\n",
      "736       3   0\n",
      "335       3   1\n",
      "768       3   1\n",
      "363       3   1\n",
      "     Survived\n",
      "620         0\n",
      "736         0\n",
      "335         0\n",
      "768         0\n",
      "363         0\n"
     ]
    }
   ],
   "source": [
    "tr_entrainement, cv_entrainement, tr_cible, cv_cible   = train_test_split(train_entrainement, train_cible, test_size = 0.30)\n",
    "\n",
    "print(tr_entrainement.head())\n",
    "print(tr_cible.head())"
   ]
  },
  {
   "cell_type": "code",
   "execution_count": 11,
   "id": "b2d03f6f",
   "metadata": {
    "execution": {
     "iopub.execute_input": "2024-08-24T21:20:19.154539Z",
     "iopub.status.busy": "2024-08-24T21:20:19.153533Z",
     "iopub.status.idle": "2024-08-24T21:20:19.158868Z",
     "shell.execute_reply": "2024-08-24T21:20:19.157769Z"
    },
    "papermill": {
     "duration": 0.021408,
     "end_time": "2024-08-24T21:20:19.161275",
     "exception": false,
     "start_time": "2024-08-24T21:20:19.139867",
     "status": "completed"
    },
    "tags": []
   },
   "outputs": [],
   "source": [
    "tr_cible = tr_cible.values.ravel()"
   ]
  },
  {
   "cell_type": "code",
   "execution_count": 12,
   "id": "df20db92",
   "metadata": {
    "execution": {
     "iopub.execute_input": "2024-08-24T21:20:19.188333Z",
     "iopub.status.busy": "2024-08-24T21:20:19.187901Z",
     "iopub.status.idle": "2024-08-24T21:20:19.193196Z",
     "shell.execute_reply": "2024-08-24T21:20:19.191992Z"
    },
    "papermill": {
     "duration": 0.021584,
     "end_time": "2024-08-24T21:20:19.195671",
     "exception": false,
     "start_time": "2024-08-24T21:20:19.174087",
     "status": "completed"
    },
    "tags": []
   },
   "outputs": [],
   "source": [
    "rf = RandomForestClassifier()"
   ]
  },
  {
   "cell_type": "code",
   "execution_count": 13,
   "id": "6b53cfec",
   "metadata": {
    "execution": {
     "iopub.execute_input": "2024-08-24T21:20:19.222595Z",
     "iopub.status.busy": "2024-08-24T21:20:19.222126Z",
     "iopub.status.idle": "2024-08-24T21:20:19.469347Z",
     "shell.execute_reply": "2024-08-24T21:20:19.467957Z"
    },
    "papermill": {
     "duration": 0.263827,
     "end_time": "2024-08-24T21:20:19.472048",
     "exception": false,
     "start_time": "2024-08-24T21:20:19.208221",
     "status": "completed"
    },
    "tags": []
   },
   "outputs": [
    {
     "data": {
      "text/html": [
       "<div>\n",
       "<style scoped>\n",
       "    .dataframe tbody tr th:only-of-type {\n",
       "        vertical-align: middle;\n",
       "    }\n",
       "\n",
       "    .dataframe tbody tr th {\n",
       "        vertical-align: top;\n",
       "    }\n",
       "\n",
       "    .dataframe thead th {\n",
       "        text-align: right;\n",
       "    }\n",
       "</style>\n",
       "<table border=\"1\" class=\"dataframe\">\n",
       "  <thead>\n",
       "    <tr style=\"text-align: right;\">\n",
       "      <th></th>\n",
       "      <th>Pclass</th>\n",
       "      <th>Sex</th>\n",
       "    </tr>\n",
       "  </thead>\n",
       "  <tbody>\n",
       "    <tr>\n",
       "      <th>620</th>\n",
       "      <td>3</td>\n",
       "      <td>1</td>\n",
       "    </tr>\n",
       "    <tr>\n",
       "      <th>736</th>\n",
       "      <td>3</td>\n",
       "      <td>0</td>\n",
       "    </tr>\n",
       "    <tr>\n",
       "      <th>335</th>\n",
       "      <td>3</td>\n",
       "      <td>1</td>\n",
       "    </tr>\n",
       "    <tr>\n",
       "      <th>768</th>\n",
       "      <td>3</td>\n",
       "      <td>1</td>\n",
       "    </tr>\n",
       "    <tr>\n",
       "      <th>363</th>\n",
       "      <td>3</td>\n",
       "      <td>1</td>\n",
       "    </tr>\n",
       "  </tbody>\n",
       "</table>\n",
       "</div>"
      ],
      "text/plain": [
       "     Pclass Sex\n",
       "620       3   1\n",
       "736       3   0\n",
       "335       3   1\n",
       "768       3   1\n",
       "363       3   1"
      ]
     },
     "execution_count": 13,
     "metadata": {},
     "output_type": "execute_result"
    }
   ],
   "source": [
    "rf.fit(tr_entrainement, tr_cible)\n",
    "tr_entrainement.head()"
   ]
  },
  {
   "cell_type": "code",
   "execution_count": 14,
   "id": "39382162",
   "metadata": {
    "execution": {
     "iopub.execute_input": "2024-08-24T21:20:19.499326Z",
     "iopub.status.busy": "2024-08-24T21:20:19.498881Z",
     "iopub.status.idle": "2024-08-24T21:20:19.520660Z",
     "shell.execute_reply": "2024-08-24T21:20:19.519458Z"
    },
    "papermill": {
     "duration": 0.038097,
     "end_time": "2024-08-24T21:20:19.522968",
     "exception": false,
     "start_time": "2024-08-24T21:20:19.484871",
     "status": "completed"
    },
    "tags": []
   },
   "outputs": [
    {
     "name": "stdout",
     "output_type": "stream",
     "text": [
      "Accuracy = 76.86567164179104%\n"
     ]
    }
   ],
   "source": [
    "accuracy = rf.score(cv_entrainement, cv_cible)\n",
    "print(\"Accuracy = {}%\".format(accuracy * 100))"
   ]
  },
  {
   "cell_type": "code",
   "execution_count": 15,
   "id": "1e51bd83",
   "metadata": {
    "execution": {
     "iopub.execute_input": "2024-08-24T21:20:19.551150Z",
     "iopub.status.busy": "2024-08-24T21:20:19.550181Z",
     "iopub.status.idle": "2024-08-24T21:20:19.555490Z",
     "shell.execute_reply": "2024-08-24T21:20:19.554253Z"
    },
    "papermill": {
     "duration": 0.021765,
     "end_time": "2024-08-24T21:20:19.557797",
     "exception": false,
     "start_time": "2024-08-24T21:20:19.536032",
     "status": "completed"
    },
    "tags": []
   },
   "outputs": [],
   "source": [
    "lgr = LogisticRegression()"
   ]
  },
  {
   "cell_type": "code",
   "execution_count": 16,
   "id": "9cacd890",
   "metadata": {
    "execution": {
     "iopub.execute_input": "2024-08-24T21:20:19.585450Z",
     "iopub.status.busy": "2024-08-24T21:20:19.585023Z",
     "iopub.status.idle": "2024-08-24T21:20:19.609182Z",
     "shell.execute_reply": "2024-08-24T21:20:19.608042Z"
    },
    "papermill": {
     "duration": 0.041021,
     "end_time": "2024-08-24T21:20:19.611901",
     "exception": false,
     "start_time": "2024-08-24T21:20:19.570880",
     "status": "completed"
    },
    "tags": []
   },
   "outputs": [
    {
     "data": {
      "text/html": [
       "<style>#sk-container-id-1 {color: black;background-color: white;}#sk-container-id-1 pre{padding: 0;}#sk-container-id-1 div.sk-toggleable {background-color: white;}#sk-container-id-1 label.sk-toggleable__label {cursor: pointer;display: block;width: 100%;margin-bottom: 0;padding: 0.3em;box-sizing: border-box;text-align: center;}#sk-container-id-1 label.sk-toggleable__label-arrow:before {content: \"▸\";float: left;margin-right: 0.25em;color: #696969;}#sk-container-id-1 label.sk-toggleable__label-arrow:hover:before {color: black;}#sk-container-id-1 div.sk-estimator:hover label.sk-toggleable__label-arrow:before {color: black;}#sk-container-id-1 div.sk-toggleable__content {max-height: 0;max-width: 0;overflow: hidden;text-align: left;background-color: #f0f8ff;}#sk-container-id-1 div.sk-toggleable__content pre {margin: 0.2em;color: black;border-radius: 0.25em;background-color: #f0f8ff;}#sk-container-id-1 input.sk-toggleable__control:checked~div.sk-toggleable__content {max-height: 200px;max-width: 100%;overflow: auto;}#sk-container-id-1 input.sk-toggleable__control:checked~label.sk-toggleable__label-arrow:before {content: \"▾\";}#sk-container-id-1 div.sk-estimator input.sk-toggleable__control:checked~label.sk-toggleable__label {background-color: #d4ebff;}#sk-container-id-1 div.sk-label input.sk-toggleable__control:checked~label.sk-toggleable__label {background-color: #d4ebff;}#sk-container-id-1 input.sk-hidden--visually {border: 0;clip: rect(1px 1px 1px 1px);clip: rect(1px, 1px, 1px, 1px);height: 1px;margin: -1px;overflow: hidden;padding: 0;position: absolute;width: 1px;}#sk-container-id-1 div.sk-estimator {font-family: monospace;background-color: #f0f8ff;border: 1px dotted black;border-radius: 0.25em;box-sizing: border-box;margin-bottom: 0.5em;}#sk-container-id-1 div.sk-estimator:hover {background-color: #d4ebff;}#sk-container-id-1 div.sk-parallel-item::after {content: \"\";width: 100%;border-bottom: 1px solid gray;flex-grow: 1;}#sk-container-id-1 div.sk-label:hover label.sk-toggleable__label {background-color: #d4ebff;}#sk-container-id-1 div.sk-serial::before {content: \"\";position: absolute;border-left: 1px solid gray;box-sizing: border-box;top: 0;bottom: 0;left: 50%;z-index: 0;}#sk-container-id-1 div.sk-serial {display: flex;flex-direction: column;align-items: center;background-color: white;padding-right: 0.2em;padding-left: 0.2em;position: relative;}#sk-container-id-1 div.sk-item {position: relative;z-index: 1;}#sk-container-id-1 div.sk-parallel {display: flex;align-items: stretch;justify-content: center;background-color: white;position: relative;}#sk-container-id-1 div.sk-item::before, #sk-container-id-1 div.sk-parallel-item::before {content: \"\";position: absolute;border-left: 1px solid gray;box-sizing: border-box;top: 0;bottom: 0;left: 50%;z-index: -1;}#sk-container-id-1 div.sk-parallel-item {display: flex;flex-direction: column;z-index: 1;position: relative;background-color: white;}#sk-container-id-1 div.sk-parallel-item:first-child::after {align-self: flex-end;width: 50%;}#sk-container-id-1 div.sk-parallel-item:last-child::after {align-self: flex-start;width: 50%;}#sk-container-id-1 div.sk-parallel-item:only-child::after {width: 0;}#sk-container-id-1 div.sk-dashed-wrapped {border: 1px dashed gray;margin: 0 0.4em 0.5em 0.4em;box-sizing: border-box;padding-bottom: 0.4em;background-color: white;}#sk-container-id-1 div.sk-label label {font-family: monospace;font-weight: bold;display: inline-block;line-height: 1.2em;}#sk-container-id-1 div.sk-label-container {text-align: center;}#sk-container-id-1 div.sk-container {/* jupyter's `normalize.less` sets `[hidden] { display: none; }` but bootstrap.min.css set `[hidden] { display: none !important; }` so we also need the `!important` here to be able to override the default hidden behavior on the sphinx rendered scikit-learn.org. See: https://github.com/scikit-learn/scikit-learn/issues/21755 */display: inline-block !important;position: relative;}#sk-container-id-1 div.sk-text-repr-fallback {display: none;}</style><div id=\"sk-container-id-1\" class=\"sk-top-container\"><div class=\"sk-text-repr-fallback\"><pre>LogisticRegression()</pre><b>In a Jupyter environment, please rerun this cell to show the HTML representation or trust the notebook. <br />On GitHub, the HTML representation is unable to render, please try loading this page with nbviewer.org.</b></div><div class=\"sk-container\" hidden><div class=\"sk-item\"><div class=\"sk-estimator sk-toggleable\"><input class=\"sk-toggleable__control sk-hidden--visually\" id=\"sk-estimator-id-1\" type=\"checkbox\" checked><label for=\"sk-estimator-id-1\" class=\"sk-toggleable__label sk-toggleable__label-arrow\">LogisticRegression</label><div class=\"sk-toggleable__content\"><pre>LogisticRegression()</pre></div></div></div></div></div>"
      ],
      "text/plain": [
       "LogisticRegression()"
      ]
     },
     "execution_count": 16,
     "metadata": {},
     "output_type": "execute_result"
    }
   ],
   "source": [
    "lgr.fit(tr_entrainement, tr_cible)"
   ]
  },
  {
   "cell_type": "code",
   "execution_count": 17,
   "id": "71045d57",
   "metadata": {
    "execution": {
     "iopub.execute_input": "2024-08-24T21:20:19.640411Z",
     "iopub.status.busy": "2024-08-24T21:20:19.639966Z",
     "iopub.status.idle": "2024-08-24T21:20:19.652538Z",
     "shell.execute_reply": "2024-08-24T21:20:19.651259Z"
    },
    "papermill": {
     "duration": 0.029697,
     "end_time": "2024-08-24T21:20:19.654986",
     "exception": false,
     "start_time": "2024-08-24T21:20:19.625289",
     "status": "completed"
    },
    "tags": []
   },
   "outputs": [
    {
     "name": "stdout",
     "output_type": "stream",
     "text": [
      "Accuracy = 77.98507462686567%\n"
     ]
    }
   ],
   "source": [
    "accuracy = lgr.score(cv_entrainement, cv_cible)\n",
    "print(\"Accuracy = {}%\".format(accuracy * 100))\n"
   ]
  },
  {
   "cell_type": "code",
   "execution_count": 18,
   "id": "4b661d3c",
   "metadata": {
    "execution": {
     "iopub.execute_input": "2024-08-24T21:20:19.683728Z",
     "iopub.status.busy": "2024-08-24T21:20:19.683140Z",
     "iopub.status.idle": "2024-08-24T21:20:19.706148Z",
     "shell.execute_reply": "2024-08-24T21:20:19.705003Z"
    },
    "papermill": {
     "duration": 0.040183,
     "end_time": "2024-08-24T21:20:19.708690",
     "exception": false,
     "start_time": "2024-08-24T21:20:19.668507",
     "status": "completed"
    },
    "tags": []
   },
   "outputs": [
    {
     "data": {
      "text/html": [
       "<div>\n",
       "<style scoped>\n",
       "    .dataframe tbody tr th:only-of-type {\n",
       "        vertical-align: middle;\n",
       "    }\n",
       "\n",
       "    .dataframe tbody tr th {\n",
       "        vertical-align: top;\n",
       "    }\n",
       "\n",
       "    .dataframe thead th {\n",
       "        text-align: right;\n",
       "    }\n",
       "</style>\n",
       "<table border=\"1\" class=\"dataframe\">\n",
       "  <thead>\n",
       "    <tr style=\"text-align: right;\">\n",
       "      <th></th>\n",
       "      <th>PassengerId</th>\n",
       "      <th>Pclass</th>\n",
       "      <th>Name</th>\n",
       "      <th>Sex</th>\n",
       "      <th>Age</th>\n",
       "      <th>SibSp</th>\n",
       "      <th>Parch</th>\n",
       "      <th>Ticket</th>\n",
       "      <th>Fare</th>\n",
       "      <th>Cabin</th>\n",
       "      <th>Embarked</th>\n",
       "    </tr>\n",
       "  </thead>\n",
       "  <tbody>\n",
       "    <tr>\n",
       "      <th>0</th>\n",
       "      <td>892</td>\n",
       "      <td>3</td>\n",
       "      <td>Kelly, Mr. James</td>\n",
       "      <td>male</td>\n",
       "      <td>34.5</td>\n",
       "      <td>0</td>\n",
       "      <td>0</td>\n",
       "      <td>330911</td>\n",
       "      <td>7.8292</td>\n",
       "      <td>NaN</td>\n",
       "      <td>Q</td>\n",
       "    </tr>\n",
       "    <tr>\n",
       "      <th>1</th>\n",
       "      <td>893</td>\n",
       "      <td>3</td>\n",
       "      <td>Wilkes, Mrs. James (Ellen Needs)</td>\n",
       "      <td>female</td>\n",
       "      <td>47.0</td>\n",
       "      <td>1</td>\n",
       "      <td>0</td>\n",
       "      <td>363272</td>\n",
       "      <td>7.0000</td>\n",
       "      <td>NaN</td>\n",
       "      <td>S</td>\n",
       "    </tr>\n",
       "    <tr>\n",
       "      <th>2</th>\n",
       "      <td>894</td>\n",
       "      <td>2</td>\n",
       "      <td>Myles, Mr. Thomas Francis</td>\n",
       "      <td>male</td>\n",
       "      <td>62.0</td>\n",
       "      <td>0</td>\n",
       "      <td>0</td>\n",
       "      <td>240276</td>\n",
       "      <td>9.6875</td>\n",
       "      <td>NaN</td>\n",
       "      <td>Q</td>\n",
       "    </tr>\n",
       "    <tr>\n",
       "      <th>3</th>\n",
       "      <td>895</td>\n",
       "      <td>3</td>\n",
       "      <td>Wirz, Mr. Albert</td>\n",
       "      <td>male</td>\n",
       "      <td>27.0</td>\n",
       "      <td>0</td>\n",
       "      <td>0</td>\n",
       "      <td>315154</td>\n",
       "      <td>8.6625</td>\n",
       "      <td>NaN</td>\n",
       "      <td>S</td>\n",
       "    </tr>\n",
       "    <tr>\n",
       "      <th>4</th>\n",
       "      <td>896</td>\n",
       "      <td>3</td>\n",
       "      <td>Hirvonen, Mrs. Alexander (Helga E Lindqvist)</td>\n",
       "      <td>female</td>\n",
       "      <td>22.0</td>\n",
       "      <td>1</td>\n",
       "      <td>1</td>\n",
       "      <td>3101298</td>\n",
       "      <td>12.2875</td>\n",
       "      <td>NaN</td>\n",
       "      <td>S</td>\n",
       "    </tr>\n",
       "  </tbody>\n",
       "</table>\n",
       "</div>"
      ],
      "text/plain": [
       "   PassengerId  Pclass                                          Name     Sex  \\\n",
       "0          892       3                              Kelly, Mr. James    male   \n",
       "1          893       3              Wilkes, Mrs. James (Ellen Needs)  female   \n",
       "2          894       2                     Myles, Mr. Thomas Francis    male   \n",
       "3          895       3                              Wirz, Mr. Albert    male   \n",
       "4          896       3  Hirvonen, Mrs. Alexander (Helga E Lindqvist)  female   \n",
       "\n",
       "    Age  SibSp  Parch   Ticket     Fare Cabin Embarked  \n",
       "0  34.5      0      0   330911   7.8292   NaN        Q  \n",
       "1  47.0      1      0   363272   7.0000   NaN        S  \n",
       "2  62.0      0      0   240276   9.6875   NaN        Q  \n",
       "3  27.0      0      0   315154   8.6625   NaN        S  \n",
       "4  22.0      1      1  3101298  12.2875   NaN        S  "
      ]
     },
     "execution_count": 18,
     "metadata": {},
     "output_type": "execute_result"
    }
   ],
   "source": [
    "test = pd.read_csv(\"/kaggle/input/titanic/test.csv\")\n",
    "test.head()\n"
   ]
  },
  {
   "cell_type": "code",
   "execution_count": 19,
   "id": "fba12b36",
   "metadata": {
    "execution": {
     "iopub.execute_input": "2024-08-24T21:20:19.739290Z",
     "iopub.status.busy": "2024-08-24T21:20:19.738695Z",
     "iopub.status.idle": "2024-08-24T21:20:19.750880Z",
     "shell.execute_reply": "2024-08-24T21:20:19.749647Z"
    },
    "papermill": {
     "duration": 0.030423,
     "end_time": "2024-08-24T21:20:19.753330",
     "exception": false,
     "start_time": "2024-08-24T21:20:19.722907",
     "status": "completed"
    },
    "tags": []
   },
   "outputs": [
    {
     "data": {
      "text/html": [
       "<div>\n",
       "<style scoped>\n",
       "    .dataframe tbody tr th:only-of-type {\n",
       "        vertical-align: middle;\n",
       "    }\n",
       "\n",
       "    .dataframe tbody tr th {\n",
       "        vertical-align: top;\n",
       "    }\n",
       "\n",
       "    .dataframe thead th {\n",
       "        text-align: right;\n",
       "    }\n",
       "</style>\n",
       "<table border=\"1\" class=\"dataframe\">\n",
       "  <thead>\n",
       "    <tr style=\"text-align: right;\">\n",
       "      <th></th>\n",
       "      <th>Pclass</th>\n",
       "      <th>Sex</th>\n",
       "    </tr>\n",
       "  </thead>\n",
       "  <tbody>\n",
       "    <tr>\n",
       "      <th>0</th>\n",
       "      <td>3</td>\n",
       "      <td>male</td>\n",
       "    </tr>\n",
       "    <tr>\n",
       "      <th>1</th>\n",
       "      <td>3</td>\n",
       "      <td>female</td>\n",
       "    </tr>\n",
       "    <tr>\n",
       "      <th>2</th>\n",
       "      <td>2</td>\n",
       "      <td>male</td>\n",
       "    </tr>\n",
       "    <tr>\n",
       "      <th>3</th>\n",
       "      <td>3</td>\n",
       "      <td>male</td>\n",
       "    </tr>\n",
       "    <tr>\n",
       "      <th>4</th>\n",
       "      <td>3</td>\n",
       "      <td>female</td>\n",
       "    </tr>\n",
       "  </tbody>\n",
       "</table>\n",
       "</div>"
      ],
      "text/plain": [
       "   Pclass     Sex\n",
       "0       3    male\n",
       "1       3  female\n",
       "2       2    male\n",
       "3       3    male\n",
       "4       3  female"
      ]
     },
     "execution_count": 19,
     "metadata": {},
     "output_type": "execute_result"
    }
   ],
   "source": [
    "test_entrainement = test[[\"Pclass\", \"Sex\"]]\n",
    "test_entrainement.head()"
   ]
  },
  {
   "cell_type": "code",
   "execution_count": 20,
   "id": "61f4dd28",
   "metadata": {
    "execution": {
     "iopub.execute_input": "2024-08-24T21:20:19.783521Z",
     "iopub.status.busy": "2024-08-24T21:20:19.783040Z",
     "iopub.status.idle": "2024-08-24T21:20:19.798029Z",
     "shell.execute_reply": "2024-08-24T21:20:19.796735Z"
    },
    "papermill": {
     "duration": 0.03333,
     "end_time": "2024-08-24T21:20:19.801006",
     "exception": false,
     "start_time": "2024-08-24T21:20:19.767676",
     "status": "completed"
    },
    "tags": []
   },
   "outputs": [
    {
     "name": "stderr",
     "output_type": "stream",
     "text": [
      "/tmp/ipykernel_17/1531927447.py:1: FutureWarning: Downcasting behavior in `replace` is deprecated and will be removed in a future version. To retain the old behavior, explicitly call `result.infer_objects(copy=False)`. To opt-in to the future behavior, set `pd.set_option('future.no_silent_downcasting', True)`\n",
      "  test_entrainement.loc[:, \"Sex\"] = train_entrainement[\"Sex\"].replace({\"male\": 1, \"female\": 0})\n"
     ]
    },
    {
     "data": {
      "text/html": [
       "<div>\n",
       "<style scoped>\n",
       "    .dataframe tbody tr th:only-of-type {\n",
       "        vertical-align: middle;\n",
       "    }\n",
       "\n",
       "    .dataframe tbody tr th {\n",
       "        vertical-align: top;\n",
       "    }\n",
       "\n",
       "    .dataframe thead th {\n",
       "        text-align: right;\n",
       "    }\n",
       "</style>\n",
       "<table border=\"1\" class=\"dataframe\">\n",
       "  <thead>\n",
       "    <tr style=\"text-align: right;\">\n",
       "      <th></th>\n",
       "      <th>Pclass</th>\n",
       "      <th>Sex</th>\n",
       "    </tr>\n",
       "  </thead>\n",
       "  <tbody>\n",
       "    <tr>\n",
       "      <th>0</th>\n",
       "      <td>3</td>\n",
       "      <td>1</td>\n",
       "    </tr>\n",
       "    <tr>\n",
       "      <th>1</th>\n",
       "      <td>3</td>\n",
       "      <td>0</td>\n",
       "    </tr>\n",
       "    <tr>\n",
       "      <th>2</th>\n",
       "      <td>2</td>\n",
       "      <td>0</td>\n",
       "    </tr>\n",
       "    <tr>\n",
       "      <th>3</th>\n",
       "      <td>3</td>\n",
       "      <td>0</td>\n",
       "    </tr>\n",
       "    <tr>\n",
       "      <th>4</th>\n",
       "      <td>3</td>\n",
       "      <td>1</td>\n",
       "    </tr>\n",
       "  </tbody>\n",
       "</table>\n",
       "</div>"
      ],
      "text/plain": [
       "   Pclass Sex\n",
       "0       3   1\n",
       "1       3   0\n",
       "2       2   0\n",
       "3       3   0\n",
       "4       3   1"
      ]
     },
     "execution_count": 20,
     "metadata": {},
     "output_type": "execute_result"
    }
   ],
   "source": [
    "test_entrainement.loc[:, \"Sex\"] = train_entrainement[\"Sex\"].replace({\"male\": 1, \"female\": 0})\n",
    "test_entrainement.head()"
   ]
  },
  {
   "cell_type": "code",
   "execution_count": 21,
   "id": "f692a5ec",
   "metadata": {
    "execution": {
     "iopub.execute_input": "2024-08-24T21:20:19.832282Z",
     "iopub.status.busy": "2024-08-24T21:20:19.831855Z",
     "iopub.status.idle": "2024-08-24T21:20:19.843063Z",
     "shell.execute_reply": "2024-08-24T21:20:19.841955Z"
    },
    "papermill": {
     "duration": 0.029293,
     "end_time": "2024-08-24T21:20:19.845512",
     "exception": false,
     "start_time": "2024-08-24T21:20:19.816219",
     "status": "completed"
    },
    "tags": []
   },
   "outputs": [
    {
     "data": {
      "text/html": [
       "<div>\n",
       "<style scoped>\n",
       "    .dataframe tbody tr th:only-of-type {\n",
       "        vertical-align: middle;\n",
       "    }\n",
       "\n",
       "    .dataframe tbody tr th {\n",
       "        vertical-align: top;\n",
       "    }\n",
       "\n",
       "    .dataframe thead th {\n",
       "        text-align: right;\n",
       "    }\n",
       "</style>\n",
       "<table border=\"1\" class=\"dataframe\">\n",
       "  <thead>\n",
       "    <tr style=\"text-align: right;\">\n",
       "      <th></th>\n",
       "      <th>Pclass</th>\n",
       "      <th>Sex</th>\n",
       "    </tr>\n",
       "  </thead>\n",
       "  <tbody>\n",
       "    <tr>\n",
       "      <th>0</th>\n",
       "      <td>3</td>\n",
       "      <td>1</td>\n",
       "    </tr>\n",
       "    <tr>\n",
       "      <th>1</th>\n",
       "      <td>3</td>\n",
       "      <td>0</td>\n",
       "    </tr>\n",
       "    <tr>\n",
       "      <th>2</th>\n",
       "      <td>2</td>\n",
       "      <td>0</td>\n",
       "    </tr>\n",
       "    <tr>\n",
       "      <th>3</th>\n",
       "      <td>3</td>\n",
       "      <td>0</td>\n",
       "    </tr>\n",
       "    <tr>\n",
       "      <th>4</th>\n",
       "      <td>3</td>\n",
       "      <td>1</td>\n",
       "    </tr>\n",
       "  </tbody>\n",
       "</table>\n",
       "</div>"
      ],
      "text/plain": [
       "   Pclass Sex\n",
       "0       3   1\n",
       "1       3   0\n",
       "2       2   0\n",
       "3       3   0\n",
       "4       3   1"
      ]
     },
     "execution_count": 21,
     "metadata": {},
     "output_type": "execute_result"
    }
   ],
   "source": [
    "test_entrainement.head()"
   ]
  },
  {
   "cell_type": "code",
   "execution_count": 22,
   "id": "6793b3ce",
   "metadata": {
    "execution": {
     "iopub.execute_input": "2024-08-24T21:20:19.876322Z",
     "iopub.status.busy": "2024-08-24T21:20:19.875928Z",
     "iopub.status.idle": "2024-08-24T21:20:19.893239Z",
     "shell.execute_reply": "2024-08-24T21:20:19.892177Z"
    },
    "papermill": {
     "duration": 0.035706,
     "end_time": "2024-08-24T21:20:19.895956",
     "exception": false,
     "start_time": "2024-08-24T21:20:19.860250",
     "status": "completed"
    },
    "tags": []
   },
   "outputs": [],
   "source": [
    "prd = rf.predict(test_entrainement)"
   ]
  },
  {
   "cell_type": "code",
   "execution_count": 23,
   "id": "2ae7cb52",
   "metadata": {
    "execution": {
     "iopub.execute_input": "2024-08-24T21:20:19.926871Z",
     "iopub.status.busy": "2024-08-24T21:20:19.926444Z",
     "iopub.status.idle": "2024-08-24T21:20:19.935519Z",
     "shell.execute_reply": "2024-08-24T21:20:19.934432Z"
    },
    "papermill": {
     "duration": 0.027322,
     "end_time": "2024-08-24T21:20:19.937902",
     "exception": false,
     "start_time": "2024-08-24T21:20:19.910580",
     "status": "completed"
    },
    "tags": []
   },
   "outputs": [
    {
     "data": {
      "text/plain": [
       "array([0, 0, 1, 0, 0, 0, 0, 0, 0, 0, 0, 1, 0, 0, 1, 1, 0, 0, 0, 0, 0, 0,\n",
       "       1, 0, 1, 0, 0, 0, 1, 0, 0, 1, 0, 0, 0, 0, 0, 0, 0, 0, 0, 1, 0, 1,\n",
       "       1, 0, 0, 0, 0, 0, 0, 0, 1, 1, 0, 0, 0, 0, 0, 0, 0, 1, 0, 0, 0, 0,\n",
       "       0, 0, 1, 0, 0, 0, 0, 0, 0, 0, 0, 0, 0, 0, 0, 0, 1, 0, 1, 0, 0, 0,\n",
       "       0, 0, 0, 0, 0, 0, 0, 0, 0, 0, 0, 0, 1, 0, 0, 0, 0, 0, 0, 0, 0, 1,\n",
       "       0, 0, 0, 0, 1, 0, 0, 0, 0, 1, 0, 0, 0, 0, 0, 0, 0, 0, 1, 0, 0, 0,\n",
       "       0, 0, 0, 0, 0, 0, 0, 0, 0, 1, 1, 0, 0, 0, 0, 0, 0, 0, 0, 0, 0, 0,\n",
       "       0, 0, 1, 0, 0, 0, 0, 0, 0, 0, 0, 0, 1, 0, 0, 0, 0, 0, 0, 0, 0, 0,\n",
       "       0, 1, 0, 0, 1, 0, 0, 0, 1, 0, 1, 0, 0, 0, 1, 0, 0, 0, 1, 0, 0, 0,\n",
       "       1, 0, 0, 0, 0, 0, 0, 1, 0, 0, 1, 0, 0, 0, 0, 0, 0, 1, 0, 0, 1, 0,\n",
       "       0, 0, 0, 0, 0, 0, 0, 0, 0, 1, 1, 0, 0, 0, 0, 0, 0, 0, 0, 0, 1, 1,\n",
       "       0, 0, 0, 0, 1, 1, 0, 0, 0, 0, 0, 0, 0, 0, 0, 0, 1, 0, 0, 0, 0, 0,\n",
       "       1, 0, 0, 0, 0, 0, 0, 0, 1, 0, 0, 1, 1, 0, 0, 1, 0, 0, 0, 0, 0, 0,\n",
       "       0, 0, 0, 0, 1, 0, 0, 1, 0, 0, 0, 0, 0, 0, 0, 0, 0, 0, 0, 0, 1, 0,\n",
       "       0, 0, 0, 0, 0, 0, 0, 0, 1, 0, 0, 1, 0, 0, 1, 1, 0, 0, 0, 1, 1, 1,\n",
       "       1, 0, 0, 0, 0, 0, 0, 0, 0, 0, 0, 0, 0, 0, 0, 0, 1, 0, 0, 0, 0, 0,\n",
       "       0, 0, 0, 0, 1, 0, 0, 0, 0, 0, 1, 0, 0, 0, 0, 0, 1, 1, 0, 0, 0, 0,\n",
       "       1, 1, 0, 0, 0, 0, 0, 0, 0, 0, 0, 0, 0, 1, 0, 0, 0, 0, 0, 1, 0, 0,\n",
       "       0, 0, 0, 0, 0, 0, 1, 0, 1, 0, 0, 0, 0, 0, 0, 0, 0, 0, 0, 0, 0, 0])"
      ]
     },
     "execution_count": 23,
     "metadata": {},
     "output_type": "execute_result"
    }
   ],
   "source": [
    "prd"
   ]
  },
  {
   "cell_type": "code",
   "execution_count": 24,
   "id": "69178c72",
   "metadata": {
    "execution": {
     "iopub.execute_input": "2024-08-24T21:20:19.969012Z",
     "iopub.status.busy": "2024-08-24T21:20:19.968597Z",
     "iopub.status.idle": "2024-08-24T21:20:19.974909Z",
     "shell.execute_reply": "2024-08-24T21:20:19.973794Z"
    },
    "papermill": {
     "duration": 0.024743,
     "end_time": "2024-08-24T21:20:19.977277",
     "exception": false,
     "start_time": "2024-08-24T21:20:19.952534",
     "status": "completed"
    },
    "tags": []
   },
   "outputs": [],
   "source": [
    "op = test[['PassengerId']].copy()"
   ]
  },
  {
   "cell_type": "code",
   "execution_count": 25,
   "id": "d3675f99",
   "metadata": {
    "execution": {
     "iopub.execute_input": "2024-08-24T21:20:20.008131Z",
     "iopub.status.busy": "2024-08-24T21:20:20.007692Z",
     "iopub.status.idle": "2024-08-24T21:20:20.014694Z",
     "shell.execute_reply": "2024-08-24T21:20:20.013149Z"
    },
    "papermill": {
     "duration": 0.025714,
     "end_time": "2024-08-24T21:20:20.017603",
     "exception": false,
     "start_time": "2024-08-24T21:20:19.991889",
     "status": "completed"
    },
    "tags": []
   },
   "outputs": [],
   "source": [
    "op['Survived'] = prd"
   ]
  },
  {
   "cell_type": "code",
   "execution_count": 26,
   "id": "a319ae3b",
   "metadata": {
    "execution": {
     "iopub.execute_input": "2024-08-24T21:20:20.048894Z",
     "iopub.status.busy": "2024-08-24T21:20:20.048441Z",
     "iopub.status.idle": "2024-08-24T21:20:20.058899Z",
     "shell.execute_reply": "2024-08-24T21:20:20.057656Z"
    },
    "papermill": {
     "duration": 0.028836,
     "end_time": "2024-08-24T21:20:20.061327",
     "exception": false,
     "start_time": "2024-08-24T21:20:20.032491",
     "status": "completed"
    },
    "tags": []
   },
   "outputs": [
    {
     "data": {
      "text/html": [
       "<div>\n",
       "<style scoped>\n",
       "    .dataframe tbody tr th:only-of-type {\n",
       "        vertical-align: middle;\n",
       "    }\n",
       "\n",
       "    .dataframe tbody tr th {\n",
       "        vertical-align: top;\n",
       "    }\n",
       "\n",
       "    .dataframe thead th {\n",
       "        text-align: right;\n",
       "    }\n",
       "</style>\n",
       "<table border=\"1\" class=\"dataframe\">\n",
       "  <thead>\n",
       "    <tr style=\"text-align: right;\">\n",
       "      <th></th>\n",
       "      <th>PassengerId</th>\n",
       "      <th>Survived</th>\n",
       "    </tr>\n",
       "  </thead>\n",
       "  <tbody>\n",
       "    <tr>\n",
       "      <th>0</th>\n",
       "      <td>892</td>\n",
       "      <td>0</td>\n",
       "    </tr>\n",
       "    <tr>\n",
       "      <th>1</th>\n",
       "      <td>893</td>\n",
       "      <td>0</td>\n",
       "    </tr>\n",
       "    <tr>\n",
       "      <th>2</th>\n",
       "      <td>894</td>\n",
       "      <td>1</td>\n",
       "    </tr>\n",
       "    <tr>\n",
       "      <th>3</th>\n",
       "      <td>895</td>\n",
       "      <td>0</td>\n",
       "    </tr>\n",
       "    <tr>\n",
       "      <th>4</th>\n",
       "      <td>896</td>\n",
       "      <td>0</td>\n",
       "    </tr>\n",
       "  </tbody>\n",
       "</table>\n",
       "</div>"
      ],
      "text/plain": [
       "   PassengerId  Survived\n",
       "0          892         0\n",
       "1          893         0\n",
       "2          894         1\n",
       "3          895         0\n",
       "4          896         0"
      ]
     },
     "execution_count": 26,
     "metadata": {},
     "output_type": "execute_result"
    }
   ],
   "source": [
    "op.head()"
   ]
  },
  {
   "cell_type": "code",
   "execution_count": 27,
   "id": "5cd4acf5",
   "metadata": {
    "execution": {
     "iopub.execute_input": "2024-08-24T21:20:20.093429Z",
     "iopub.status.busy": "2024-08-24T21:20:20.092948Z",
     "iopub.status.idle": "2024-08-24T21:20:20.101932Z",
     "shell.execute_reply": "2024-08-24T21:20:20.100815Z"
    },
    "papermill": {
     "duration": 0.028059,
     "end_time": "2024-08-24T21:20:20.104644",
     "exception": false,
     "start_time": "2024-08-24T21:20:20.076585",
     "status": "completed"
    },
    "tags": []
   },
   "outputs": [],
   "source": [
    "op.to_csv(\"Submission.csv\",index=False)"
   ]
  }
 ],
 "metadata": {
  "kaggle": {
   "accelerator": "none",
   "dataSources": [
    {
     "databundleVersionId": 26502,
     "sourceId": 3136,
     "sourceType": "competition"
    }
   ],
   "dockerImageVersionId": 30761,
   "isGpuEnabled": false,
   "isInternetEnabled": true,
   "language": "python",
   "sourceType": "notebook"
  },
  "kernelspec": {
   "display_name": "Python 3",
   "language": "python",
   "name": "python3"
  },
  "language_info": {
   "codemirror_mode": {
    "name": "ipython",
    "version": 3
   },
   "file_extension": ".py",
   "mimetype": "text/x-python",
   "name": "python",
   "nbconvert_exporter": "python",
   "pygments_lexer": "ipython3",
   "version": "3.10.14"
  },
  "papermill": {
   "default_parameters": {},
   "duration": 7.457468,
   "end_time": "2024-08-24T21:20:20.740935",
   "environment_variables": {},
   "exception": null,
   "input_path": "__notebook__.ipynb",
   "output_path": "__notebook__.ipynb",
   "parameters": {},
   "start_time": "2024-08-24T21:20:13.283467",
   "version": "2.6.0"
  }
 },
 "nbformat": 4,
 "nbformat_minor": 5
}
